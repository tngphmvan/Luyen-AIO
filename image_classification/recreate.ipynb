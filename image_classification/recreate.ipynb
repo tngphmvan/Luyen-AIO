{
 "cells": [
  {
   "cell_type": "code",
   "execution_count": null,
   "id": "10b9437e",
   "metadata": {},
   "outputs": [],
   "source": [
    "import cv2\n",
    "import numpy as np\n",
    "from torch.nn import Linear, Softmax, CrossEntropyLoss, ReLU\n",
    "from torch.optim import Adam\n",
    "from torch.optim.lr_scheduler import ReduceLROnPlateau\n",
    "import torch\n",
    "from pytorch_lightning.callbacks import ModelCheckpoint, EarlyStopping\n",
    "from pytorch_lightning.loggers import TensorBoardLogger, CometLogger\n",
    "from pytorch_lightning import LightningModule\n",
    "from torch.utils.data import DataLoader, random_split, WeightedRandomSampler\n",
    "import os\n",
    "from PIL import Image\n",
    "import tqdm\n",
    "\n",
    "def _doc_anh_va_video(input_folder: str, output_folder: str):\n",
    "    \n",
    "    files = [os.path.join(root, file) for root, dirs, files in os.walk(input_folder) for file in files]\n",
    "    for file in tqdm(files):\n",
    "        if os.path.basename(file).lower().endswith(('.jpg', '.jpeg', '.png')):\n",
    "            img = cv2.imread(filename=file)\n",
    "            if img is None:\n",
    "                continue\n",
    "            cv2.cvtColor(img, cv2.COLOR_BGR2RGB)\n",
    "            if file.find('live') !=0:\n",
    "                img_class = 'live'"
   ]
  }
 ],
 "metadata": {
  "kernelspec": {
   "display_name": "haui_aio",
   "language": "python",
   "name": "python3"
  },
  "language_info": {
   "name": "python",
   "version": "3.11.13"
  }
 },
 "nbformat": 4,
 "nbformat_minor": 5
}
